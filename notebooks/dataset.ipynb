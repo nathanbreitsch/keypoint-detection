{
 "cells": [
  {
   "cell_type": "code",
   "execution_count": 1,
   "metadata": {},
   "outputs": [],
   "source": [
    "import sys\n",
    "import pandas as pd\n",
    "sys.path.append('..')\n",
    "%load_ext autoreload\n",
    "%autoreload 2\n",
    "%matplotlib inline\n",
    "from keypoint_detection.dataset import KeypointsDataset, ManifestItem\n",
    "from keypoint_detection import visualization as vis"
   ]
  },
  {
   "cell_type": "code",
   "execution_count": 2,
   "metadata": {},
   "outputs": [],
   "source": [
    "dataset_path = '/home/nathan/cvnd/submodules/p1-facial-keypoints/data'"
   ]
  },
  {
   "cell_type": "code",
   "execution_count": 3,
   "metadata": {},
   "outputs": [
    {
     "name": "stdout",
     "output_type": "stream",
     "text": [
      "ls: cannot access '/home/nathan/cvnd/submodules/p1-facial-keypoints/datadata': No such file or directory\n"
     ]
    }
   ],
   "source": [
    "! ls /home/nathan/cvnd/submodules/p1-facial-keypoints/datadata"
   ]
  },
  {
   "cell_type": "code",
   "execution_count": 4,
   "metadata": {},
   "outputs": [],
   "source": [
    "df_raw = pd.read_csv(f'{dataset_path}/training_frames_keypoints.csv')\n",
    "\n",
    "training_manifest = [\n",
    "    ManifestItem(\n",
    "        image_name = row[0],\n",
    "        keypoints = row[1:].values\n",
    "    ) \n",
    "    for _, row in df_raw.iterrows()\n",
    "]"
   ]
  },
  {
   "cell_type": "code",
   "execution_count": 5,
   "metadata": {},
   "outputs": [],
   "source": [
    "dataset = KeypointsDataset(training_manifest, f'{dataset_path}/training')"
   ]
  },
  {
   "cell_type": "code",
   "execution_count": 6,
   "metadata": {},
   "outputs": [
    {
     "data": {
      "text/plain": [
       "torch.Size([1, 3, 192, 176])"
      ]
     },
     "execution_count": 6,
     "metadata": {},
     "output_type": "execute_result"
    }
   ],
   "source": [
    "dataset[0][0].shape\n"
   ]
  },
  {
   "cell_type": "code",
   "execution_count": 7,
   "metadata": {},
   "outputs": [],
   "source": [
    "keypoints = dataset[0][1].numpy()"
   ]
  },
  {
   "cell_type": "code",
   "execution_count": 8,
   "metadata": {},
   "outputs": [
    {
     "data": {
      "image/png": "[encoded data removed]",
      "text/plain": [
       "<matplotlib.figure.Figure at 0x7fb4e25ac438>"
      ]
     },
     "metadata": {},
     "output_type": "display_data"
    }
   ],
   "source": [
    "vis.plot_image(dataset[0][0], dataset[0][1])"
   ]
  },
  {
   "cell_type": "code",
   "execution_count": 9,
   "metadata": {},
   "outputs": [
    {
     "data": {
      "text/plain": [
       "array([-0.8828125 , -0.72159088, -0.87760419, -0.69886363, -0.87239581,\n",
       "       -0.6875    , -0.86197919, -0.66193181, -0.85416669, -0.64488637,\n",
       "       -0.83854169, -0.63068181, -0.828125  , -0.61931819, -0.80989581,\n",
       "       -0.61363637, -0.7890625 , -0.60511363, -0.76041669, -0.61931819,\n",
       "       -0.75      , -0.63068181, -0.74479163, -0.6420455 , -0.734375  ,\n",
       "       -0.65909088, -0.734375  , -0.68465912, -0.72916663, -0.7017045 ,\n",
       "       -0.72916663, -0.71875   , -0.734375  , -0.74431819, -0.8671875 ,\n",
       "       -0.74715912, -0.85416669, -0.75284088, -0.84375   , -0.75284088,\n",
       "       -0.83333331, -0.75284088, -0.82291669, -0.75284088, -0.78385419,\n",
       "       -0.75852275, -0.7734375 , -0.76420456, -0.76041669, -0.76988637,\n",
       "       -0.75      , -0.76988637, -0.73958337, -0.76136363, -0.79947919,\n",
       "       -0.73863637, -0.79427081, -0.72159088, -0.79427081, -0.71022725,\n",
       "       -0.79427081, -0.69602275, -0.80989581, -0.69034088, -0.8046875 ,\n",
       "       -0.69034088, -0.79427081, -0.68465912, -0.7890625 , -0.69034088,\n",
       "       -0.78385419, -0.69034088, -0.84895831, -0.7329545 , -0.83854169,\n",
       "       -0.73863637, -0.83333331, -0.73863637, -0.82291669, -0.73863637,\n",
       "       -0.828125  , -0.7329545 , -0.83854169, -0.7329545 , -0.77864581,\n",
       "       -0.73863637, -0.7734375 , -0.74431819, -0.76041669, -0.74431819,\n",
       "       -0.75520831, -0.74431819, -0.76041669, -0.73863637, -0.7734375 ,\n",
       "       -0.73863637, -0.82291669, -0.66193181, -0.80989581, -0.66761363,\n",
       "       -0.79947919, -0.6732955 , -0.79427081, -0.66761363, -0.7890625 ,\n",
       "       -0.6732955 , -0.77864581, -0.66761363, -0.765625  , -0.66761363,\n",
       "       -0.7734375 , -0.65340912, -0.77864581, -0.64772725, -0.7890625 ,\n",
       "       -0.64772725, -0.79947919, -0.64772725, -0.80989581, -0.65625   ,\n",
       "       -0.81770831, -0.66193181, -0.79947919, -0.66193181, -0.79427081,\n",
       "       -0.66193181, -0.78385419, -0.66193181, -0.765625  , -0.66761363,\n",
       "       -0.78385419, -0.66193181, -0.7890625 , -0.65340912, -0.79947919,\n",
       "       -0.65340912], dtype=float32)"
      ]
     },
     "execution_count": 9,
     "metadata": {},
     "output_type": "execute_result"
    }
   ],
   "source": [
    "keypoints"
   ]
  },
  {
   "cell_type": "code",
   "execution_count": null,
   "metadata": {},
   "outputs": [],
   "source": []
  }
 ],
 "metadata": {
  "kernelspec": {
   "display_name": "Python [default]",
   "language": "python",
   "name": "python3"
  },
  "language_info": {
   "codemirror_mode": {
    "name": "ipython",
    "version": 3
   },
   "file_extension": ".py",
   "mimetype": "text/x-python",
   "name": "python",
   "nbconvert_exporter": "python",
   "pygments_lexer": "ipython3",
   "version": "3.6.3"
  }
 },
 "nbformat": 4,
 "nbformat_minor": 2
}
